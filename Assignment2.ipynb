{
  "nbformat": 4,
  "nbformat_minor": 0,
  "metadata": {
    "colab": {
      "provenance": []
    },
    "kernelspec": {
      "name": "python3",
      "display_name": "Python 3"
    },
    "language_info": {
      "name": "python"
    }
  },
  "cells": [
    {
      "cell_type": "markdown",
      "source": [
        "\n",
        "Q1 What is Python, and why is it popular\n",
        "\n",
        "Python is a high-level, interpreted programming language used across various development domains. It ranges from simple scripting and basic programming to game development and the creation of large-scale, complex software systems.\n",
        "Python is popular due to its simplicity, readability, and easy-to-learn syntax. It supports multiple programming paradigms, including procedural, object-oriented, and functional programming.\n",
        "Additionally, Python has a large community and an extensive collection of libraries that accelerate development. Its versatility allows it to be widely used in web development, data science, automation, AI, and more.\n",
        "\n"
      ],
      "metadata": {
        "id": "LJ5n43APNe3F"
      }
    },
    {
      "cell_type": "markdown",
      "source": [
        "Q2 What is an interpreter in Python\n",
        "\n",
        "\n",
        "An interpreter in Python is a program that reads and executes Python code line by line instead of compiling it all at once like some other languages (e.g., C or Java). This makes Python easy to debug and run without needing a separate compilation step.\n",
        "When you write Python code and run it, the interpreter first translates it into an intermediate form called bytecode. This bytecode is then processed by the Python Virtual Machine (PVM), which executes the instructions on your computer.\n",
        "Python has different interpreters, with CPython being the most commonly used. Other interpreters like PyPy use Just-In-Time (JIT) compilation for faster execution, while Jython and IronPython integrate Python with Java and .NET, respectively.\n"
      ],
      "metadata": {
        "id": "w5TJkU-gNlIE"
      }
    },
    {
      "cell_type": "markdown",
      "source": [
        "\n",
        "Q3 What are predefined keywords in Python\n",
        "\n",
        "Pre-defined keywords in Python are reserved words that have a specific meaning and purpose in the language. These keywords cannot be used as variable names, function names, or identifiers because they are part of Python’s syntax and functionality\n",
        "\n"
      ],
      "metadata": {
        "id": "gkRqspp8Nlgd"
      }
    },
    {
      "cell_type": "markdown",
      "source": [
        "\n",
        "Q4 Can keywords be used as variable names\n",
        "\n",
        "No, keywords cannot be used as variable names in Python because they are reserved words that have a special meaning in the language. Using a keyword as a variable name will result in a SyntaxError.\n",
        "\n",
        "\n",
        "\n",
        "\n",
        "\n",
        "\n",
        "\n"
      ],
      "metadata": {
        "id": "cIlHTtn3NtHF"
      }
    },
    {
      "cell_type": "markdown",
      "source": [
        "\n",
        "Q5 What is mutability in Python\n",
        "\n",
        "In Python,Mutability refers to an object's ability to be modified after creation\n",
        "Mutability is mostly associated with data types.\n",
        " In Python, a data type is mutable if its values can be changed, updated, or modified after the object has been created.\n",
        "Mutability means updating elements in a list, set, or dictionary without changing their memory address.\n",
        "There are various mutable data types in Python, such as lists, dictionaries, and sets.\n"
      ],
      "metadata": {
        "id": "jqsRnCBoNyJM"
      }
    },
    {
      "cell_type": "markdown",
      "source": [
        "Q6 Why are lists mutable, but tuples are immutable\n",
        "\n",
        "\n",
        "Tuples are stored in a single memory block, making them faster and more memory-efficient.\n",
        "Lists use dynamic memory allocation, requiring extra space to accommodate modifications.\n",
        "\n",
        "Tuples ensure data remains unchanged, making them ideal for fixed data like database records or configurations.\n",
        "Lists allow modifications, making them useful for storing dynamic data that changes frequently.\n",
        "\n",
        "\n",
        "Tuples are immutable, allowing Python to optimize storage and caching, leading to faster execution.\n",
        "Lists cannot be optimized in the same way because their contents can change at any time.\n",
        "\n",
        "\n",
        "Tuples are hashable, meaning they can be used as keys in dictionaries and elements in sets.\n",
        "Lists are not hashable because they are mutable, making them unreliable for dictionary keys.\n",
        "\n",
        "\n",
        "Lists store references to objects, allowing elements to be updated without changing the list’s identity (memory address).\n",
        "Tuples store data directly, making them safer from unintended modifications."
      ],
      "metadata": {
        "id": "GyRJMGoeOLF0"
      }
    },
    {
      "cell_type": "markdown",
      "source": [
        "Q7 What is the difference between “==” and “is” operators in Python\n",
        "\n",
        " in Python  “==”  checks if two objects have the same value while ‘is ’ operators checks if two objects refer to the same memory location.\n",
        "For example\n",
        "= operator\n",
        "a = [1, 2, 3]\n",
        "b = [1, 2, 3]\n",
        "print(a == b)  # Output: True (because values are the same)\n",
        "\n",
        "While for the same example with is operator will give output as false\n"
      ],
      "metadata": {
        "id": "ViykxQxmNyzc"
      }
    },
    {
      "cell_type": "markdown",
      "source": [
        "\n",
        "Q8 What are logical operators in Python\n",
        "\n",
        "Logical operators in Python are mostly used to combine conditional statements\n",
        "This statement returns two outputs which are True or False based on the conditions.\n",
        "In python there are three logical operators: and,or and not\n",
        "AND:- Returns True if both conditions are True, otherwise returns False.\n",
        "OR:- Returns True if at least one condition is True and Returns False only if both conditions are False.\n",
        "NOT:- Reverses the Boolean value of a condition.\n"
      ],
      "metadata": {
        "id": "wkw7HcYuOcp0"
      }
    },
    {
      "cell_type": "markdown",
      "source": [
        "Q9 What is type casting in Python\n",
        "\n",
        "Type casting in Python is the process of converting one data type into another.\n",
        "With the help of type casting we can change data types. There are two methods of changing the data types which are Implicit Type Casting and  Explicit Type Casting.\n",
        "Implicit Type Casting is a automatic conversion method in python which  automatically converts smaller data types into larger ones to avoid data loss.\n",
        "Where  Explicit Type Casting is a manual Conversion method where the user manually converts data types using built-in functions.\n"
      ],
      "metadata": {
        "id": "Ecb5Jj_VOkVM"
      }
    },
    {
      "cell_type": "markdown",
      "source": [
        "\n",
        "Q10 What is the difference between implicit and explicit type casting\n",
        "\n",
        "\n",
        "Implicit Type Casting\n",
        "Implicit type casting, also known as automatic conversion, is when Python automatically converts a smaller data type into a larger one to prevent data loss. This happens without requiring any manual intervention.\n",
        "\n",
        "Explicit Type Casting\n",
        "Explicit type casting, also known as manual conversion, is when the programmer manually changes the data type using built-in functions like int(), float(), str(), list(), etc. This is used when Python does not automatically convert types or when a specific format is required.\n"
      ],
      "metadata": {
        "id": "1QMu3WhQOkq8"
      }
    },
    {
      "cell_type": "markdown",
      "source": [
        "Q11 What is the purpose of conditional statements in Python\n",
        "\n",
        "Conditional statements in Python are used to control the flow of a program,a conditional statement is used to handle conditions in your program. These statements guide the program while making decisions based on the conditions encountered by the program.They also allow execution of certain code blocks while skipping others and one of the main advantage of conditional statement is that instead of running all lines of code, they execute only the necessary parts, improving performance.\n"
      ],
      "metadata": {
        "id": "VV_MxJMiOnKM"
      }
    },
    {
      "cell_type": "markdown",
      "source": [
        "Q12 How does the elif statement work\n",
        "\n",
        "\n",
        "In Python ‘Elif’ stands for ‘else if’\n",
        "The elif (else if) statement is used when there are multiple conditions to check.\n",
        "It allows a program to evaluate conditions one by one, executing only the block where the condition is True.Here a small example how elif statement works:\n",
        "If condition 1 is True, the statement inside the if block will be executed.\n",
        "If condition 1 is False, the elif condition will be checked.\n",
        "If the elif condition is True, the statement inside the elif block will be executed.\n",
        "If both if and elif conditions are False, the statement inside the else block will be executed.\n",
        "\n"
      ],
      "metadata": {
        "id": "KA90ng00OuSE"
      }
    },
    {
      "cell_type": "markdown",
      "source": [
        "Q13 What is the difference between for and while loops\n",
        "\n",
        "In Python, both for and while loops are used for iteration\n",
        "\n",
        "A for loop is used to iterate over a sequence of items, such as a list, tuple, or string.\n",
        "It is best suited when the number of iterations is known beforehand.\n",
        "The loop automatically picks elements from the sequence and executes the loop body.\n",
        "\n",
        "A while loop keeps running as long as a condition is True.\n",
        "It is useful when the number of iterations is not known beforehand.\n",
        "The condition is checked before each iteration, and the loop stops when the condition becomes False.\n"
      ],
      "metadata": {
        "id": "fsqHaIMjOy68"
      }
    },
    {
      "cell_type": "markdown",
      "source": [
        "Q14 Describe a scenario where a while loop is more suitable than a for loop\n",
        "\n",
        "A while loop is more suitable when we do not know in advance how many times the loop should run. It is useful in situations where the loop should continue until a certain condition is met, rather than iterating over a fixed sequence.\n",
        "Example Scenario: User Input Validation\n",
        "Imagine we are creating a program that asks the user for a correct password. We do not know how many attempts the user will need, so a while loop is the best choice.\n",
        "\n",
        "We do not know how many times the user will enter the wrong password\n",
        "The loop should continue until the correct password is entered.\n",
        "A for loop would not be suitable because it requires a fixed number of iterations, which we do not have in this case.\n"
      ],
      "metadata": {
        "id": "8_RjhkbHO4-N"
      }
    },
    {
      "cell_type": "code",
      "source": [
        "#1 Write a Python program to print \"Hello, World!\n",
        "\n",
        "print (\"Hello, World!\")"
      ],
      "metadata": {
        "colab": {
          "base_uri": "https://localhost:8080/"
        },
        "id": "owOjmsRtqoe6",
        "outputId": "221927ad-66c0-48a6-e177-71973630ed61"
      },
      "execution_count": 14,
      "outputs": [
        {
          "output_type": "stream",
          "name": "stdout",
          "text": [
            "Hello, World!\n"
          ]
        }
      ]
    },
    {
      "cell_type": "code",
      "source": [
        "#2 Write a Python program that displays your name and age\n",
        "\n",
        "name=input(\"Name:\")\n",
        "age = int(input(\"Age:\"))\n"
      ],
      "metadata": {
        "colab": {
          "base_uri": "https://localhost:8080/"
        },
        "id": "Ysiy5Nkvq0sJ",
        "outputId": "699b23e7-2888-46fa-992d-6cdcee1b1ff6"
      },
      "execution_count": 13,
      "outputs": [
        {
          "name": "stdout",
          "output_type": "stream",
          "text": [
            "Name:tanmay\n",
            "Age:22\n"
          ]
        }
      ]
    },
    {
      "cell_type": "code",
      "source": [
        "#3 Write code to print all the pre-defined keywords in Python using the keyword library\n",
        "\n",
        "\n",
        "import keyword\n",
        "print(\"keywords : \")\n",
        "print(keyword.kwlist)"
      ],
      "metadata": {
        "colab": {
          "base_uri": "https://localhost:8080/"
        },
        "id": "A9m3ekRXq06k",
        "outputId": "ffcd7f04-1066-4d56-b256-fc5643846976"
      },
      "execution_count": 12,
      "outputs": [
        {
          "output_type": "stream",
          "name": "stdout",
          "text": [
            "keywords : \n",
            "['False', 'None', 'True', 'and', 'as', 'assert', 'async', 'await', 'break', 'class', 'continue', 'def', 'del', 'elif', 'else', 'except', 'finally', 'for', 'from', 'global', 'if', 'import', 'in', 'is', 'lambda', 'nonlocal', 'not', 'or', 'pass', 'raise', 'return', 'try', 'while', 'with', 'yield']\n"
          ]
        }
      ]
    },
    {
      "cell_type": "code",
      "source": [
        "#4 Write a program that checks if a given word is a Python keyword.\n",
        "\n",
        "\n",
        "import keyword\n",
        "keyword.kwlist\n",
        "\n",
        "user_in = input(\"enter a word :-\")\n",
        "if user_in in keyword.kwlist:\n",
        "    print (\"keyword\")\n",
        "else :\n",
        "    print(\"not a keyword\")"
      ],
      "metadata": {
        "colab": {
          "base_uri": "https://localhost:8080/"
        },
        "id": "f1SuNaVgq1OQ",
        "outputId": "ee4842f7-94a9-477c-b26a-ca0b1a3bdb1d"
      },
      "execution_count": 11,
      "outputs": [
        {
          "output_type": "stream",
          "name": "stdout",
          "text": [
            "enter a word :-True\n",
            "keyword\n"
          ]
        }
      ]
    },
    {
      "cell_type": "code",
      "source": [
        "#5. Create a list and tuple in Python, and demonstrate how attempting to change an element works differently\n",
        "\n",
        "for eachmy_list = [10, 20, 30, 40]\n",
        "print(\"Original List:\", my_list)\n",
        "\n",
        "my_list[1] = 25\n",
        "print(\"Modified List:\", my_list)\n",
        "\n",
        "my_tuple = (10, 20, 30, 40)\n",
        "print(\"Tuple:\", my_tuple)\n",
        "\n",
        "my_tuple[1] = 25\n",
        "print(\"Tuple:\", my_tuple)\n"
      ],
      "metadata": {
        "colab": {
          "base_uri": "https://localhost:8080/",
          "height": 109
        },
        "id": "xcpzwKRkq1c5",
        "outputId": "75d949e7-0927-4e5a-e566-9acdb596d92d"
      },
      "execution_count": 10,
      "outputs": [
        {
          "output_type": "error",
          "ename": "SyntaxError",
          "evalue": "invalid syntax (<ipython-input-10-caf95c9b9eb0>, line 3)",
          "traceback": [
            "\u001b[0;36m  File \u001b[0;32m\"<ipython-input-10-caf95c9b9eb0>\"\u001b[0;36m, line \u001b[0;32m3\u001b[0m\n\u001b[0;31m    for eachmy_list = [10, 20, 30, 40]\u001b[0m\n\u001b[0m                    ^\u001b[0m\n\u001b[0;31mSyntaxError\u001b[0m\u001b[0;31m:\u001b[0m invalid syntax\n"
          ]
        }
      ]
    },
    {
      "cell_type": "code",
      "source": [
        "#6. Write a function to demonstrate the behavior of mutable and immutable arguments."
      ],
      "metadata": {
        "id": "6oGE9fxbq1g5"
      },
      "execution_count": null,
      "outputs": []
    },
    {
      "cell_type": "code",
      "source": [
        "#7. Write a program that performs basic arithmetic operations on two user-input numbers.\n",
        "\n",
        "num1 = int(input(\"Enter a number: \"))\n",
        "num2 = int(input(\"Enter a number: \"))\n",
        "\n",
        "print(\"num1+num2 :\",num1 +num2)\n",
        "print(\"num1-num2 :\",num1 -num2)\n",
        "print(\"num1*num2 :\",num1 *num2)\n",
        "print(\"num1/num2 :\",num1/ num2)\n",
        "print(\"num1%num2 :\",num1 % num2)"
      ],
      "metadata": {
        "colab": {
          "base_uri": "https://localhost:8080/"
        },
        "id": "niN__PZHq1j5",
        "outputId": "9320d0c4-302d-482d-8f10-5f1b644174df"
      },
      "execution_count": 9,
      "outputs": [
        {
          "output_type": "stream",
          "name": "stdout",
          "text": [
            "Enter a number: 5\n",
            "Enter a number: 8\n",
            "num1+num2 : 13\n",
            "num1-num2 : -3\n",
            "num1*num2 : 40\n",
            "num1/num2 : 0.625\n",
            "num1%num2 : 5\n"
          ]
        }
      ]
    },
    {
      "cell_type": "code",
      "source": [
        "#8. Write a program to demonstrate the use of logical operators.\n",
        "\n",
        "a = int(input(\"Enter first number: \"))\n",
        "b = int(input(\"Enter second number: \"))\n",
        "\n",
        "if (a > 0 and b > 0):\n",
        "    print(\"Both numbers are positive.\")\n",
        "\n",
        "if (a > 0 or b > 0):\n",
        "    print(\"At least one number is positive.\")\n",
        "\n",
        "if not (a < 0):\n",
        "    print(\"First number is NOT negative.\")"
      ],
      "metadata": {
        "colab": {
          "base_uri": "https://localhost:8080/"
        },
        "id": "RmnP-qAgq1mp",
        "outputId": "2a03796b-7f69-434a-c4e4-dc9560eed5d4"
      },
      "execution_count": 8,
      "outputs": [
        {
          "output_type": "stream",
          "name": "stdout",
          "text": [
            "Enter first number: 1\n",
            "Enter second number: 3\n",
            "Both numbers are positive.\n",
            "At least one number is positive.\n",
            "First number is NOT negative.\n"
          ]
        }
      ]
    },
    {
      "cell_type": "code",
      "source": [
        "#9. Write a Python program to convert user input from string to integer, float, and boolean types.\n",
        "\n",
        "a = input(\"enter a value\")\n",
        "\n",
        "print(type(a))\n",
        "print(type(str(a)))\n",
        "print(type(float(a)))\n",
        "print(type(bool(a)))\n"
      ],
      "metadata": {
        "colab": {
          "base_uri": "https://localhost:8080/"
        },
        "id": "2BWCyx4oq1pD",
        "outputId": "4c98607c-bcab-49ad-eb9b-7f21508ea346"
      },
      "execution_count": 7,
      "outputs": [
        {
          "output_type": "stream",
          "name": "stdout",
          "text": [
            "enter a value2\n",
            "<class 'str'>\n",
            "<class 'str'>\n",
            "<class 'float'>\n",
            "<class 'bool'>\n"
          ]
        }
      ]
    },
    {
      "cell_type": "code",
      "source": [
        "#10. Write code to demonstrate type casting with list elements.\n",
        "\n",
        "str_list = [\"10\", \"20\", \"30\", \"40\"]\n",
        "\n",
        "print(\"String List :\", str_list)\n",
        "\n",
        "int_list = [int(num) for num in str_list]\n",
        "print(\"Integer List:\", int_list)\n",
        "\n",
        "float_list = [float(num) for num in str_list]\n",
        "print(\"  Floats: List\", float_list)\n"
      ],
      "metadata": {
        "colab": {
          "base_uri": "https://localhost:8080/"
        },
        "id": "-PJuMnSqq1rZ",
        "outputId": "40659b60-39fb-4fa6-961c-bfd6daaeb1b5"
      },
      "execution_count": null,
      "outputs": [
        {
          "output_type": "stream",
          "name": "stdout",
          "text": [
            "String List : ['10', '20', '30', '40']\n",
            "Integer List: [10, 20, 30, 40]\n",
            "  Floats: List [10.0, 20.0, 30.0, 40.0]\n"
          ]
        }
      ]
    },
    {
      "cell_type": "code",
      "source": [
        "#11. Write a program that checks if a number is positive, negative, or zero.\n",
        "\n",
        "num = int(input(\"Enter a number: \"))\n",
        "if (num==0):\n",
        "    print(\"num is zero\")\n",
        "elif (num> 0):\n",
        "    print(\"num is positive\")\n",
        "else :\n",
        "    print(\"num is negative\")\n",
        "\n"
      ],
      "metadata": {
        "colab": {
          "base_uri": "https://localhost:8080/"
        },
        "id": "1V02a-4Cq1tx",
        "outputId": "180943d0-869c-4479-d604-9c1e2d5a7ce0"
      },
      "execution_count": 6,
      "outputs": [
        {
          "output_type": "stream",
          "name": "stdout",
          "text": [
            "Enter a number: 5\n",
            "num is positive\n"
          ]
        }
      ]
    },
    {
      "cell_type": "code",
      "source": [
        "#12. Write a for loop to print numbers from 1 to 10.\n",
        "\n",
        "for i in range(1,11):\n",
        "    print(i)"
      ],
      "metadata": {
        "colab": {
          "base_uri": "https://localhost:8080/"
        },
        "id": "_SlyKLr_rIVZ",
        "outputId": "3047f61e-3671-46ab-b240-98201a4022af"
      },
      "execution_count": 5,
      "outputs": [
        {
          "output_type": "stream",
          "name": "stdout",
          "text": [
            "1\n",
            "2\n",
            "3\n",
            "4\n",
            "5\n",
            "6\n",
            "7\n",
            "8\n",
            "9\n",
            "10\n"
          ]
        }
      ]
    },
    {
      "cell_type": "code",
      "source": [
        "#13. Write a Python program to find the sum of all even numbers between 1 and 50.\n",
        "\n",
        "sum = 0\n",
        "\n",
        "for num in range(1, 51):\n",
        "    if num % 2 == 0:  # Check if the number is even\n",
        "        sum = sum + num  # Add even numbers to sum\n",
        "\n",
        "print(\"Sum of even numbers between 1 and 50:\", sum)\n"
      ],
      "metadata": {
        "colab": {
          "base_uri": "https://localhost:8080/"
        },
        "id": "TiTspFe7rIdJ",
        "outputId": "b45872a9-70fb-4089-92ae-18dc2bf30e4a"
      },
      "execution_count": 4,
      "outputs": [
        {
          "output_type": "stream",
          "name": "stdout",
          "text": [
            "Sum of even numbers between 1 and 50: 650\n"
          ]
        }
      ]
    },
    {
      "cell_type": "code",
      "source": [
        "#14. Write a program to reverse a string using a while loop.\n",
        "\n",
        "string = input(\"Enter a string: \")\n",
        "reversed_string = \"\"\n",
        "\n",
        "i = len(string) - 1\n",
        "\n",
        "while i >= 0:\n",
        "    reversed_string += string[i]\n",
        "    i -= 1\n",
        "print(\"Reversed string:\", reversed_string)"
      ],
      "metadata": {
        "id": "5rZQacj8rIgY",
        "colab": {
          "base_uri": "https://localhost:8080/"
        },
        "outputId": "4a0d56c5-bc41-44f7-9dbe-65f34fd84142"
      },
      "execution_count": 3,
      "outputs": [
        {
          "output_type": "stream",
          "name": "stdout",
          "text": [
            "Enter a string: tanmay\n",
            "Reversed string: yamnat\n"
          ]
        }
      ]
    },
    {
      "cell_type": "code",
      "source": [
        "#15. Write a Python program to calculate the factorial of a number provided by the user using a while loop.\n",
        "\n",
        "num = int(input(\"Enter a number: \"))\n",
        "i = 1\n",
        "fact = 1\n",
        "\n",
        "while i <= num:\n",
        "    fact = fact * i\n",
        "    i = i + 1\n",
        "\n",
        "print(\"Factorial:\", fact)\n"
      ],
      "metadata": {
        "id": "CKLQ5a__rMC4",
        "colab": {
          "base_uri": "https://localhost:8080/"
        },
        "outputId": "874c2670-1240-4a86-d554-583e6606caab"
      },
      "execution_count": 1,
      "outputs": [
        {
          "output_type": "stream",
          "name": "stdout",
          "text": [
            "Enter a number: 5\n",
            "Factorial: 120\n"
          ]
        }
      ]
    }
  ]
}